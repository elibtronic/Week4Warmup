{
  "nbformat": 4,
  "nbformat_minor": 0,
  "metadata": {
    "colab": {
      "provenance": [],
      "authorship_tag": "ABX9TyMwLRGVIY16t3+0wn2V6iT9",
      "include_colab_link": true
    },
    "kernelspec": {
      "name": "python3",
      "display_name": "Python 3"
    },
    "language_info": {
      "name": "python"
    }
  },
  "cells": [
    {
      "cell_type": "markdown",
      "metadata": {
        "id": "view-in-github",
        "colab_type": "text"
      },
      "source": [
        "<a href=\"https://colab.research.google.com/github/elibtronic/Week4Warmup/blob/main/Week_4_Warm_Up.ipynb\" target=\"_parent\"><img src=\"https://colab.research.google.com/assets/colab-badge.svg\" alt=\"Open In Colab\"/></a>"
      ]
    },
    {
      "cell_type": "markdown",
      "source": [
        "\n",
        "## Week 4 Warm up\n",
        "\n",
        "This notebook is just a demo for the week 4 warmup"
      ],
      "metadata": {
        "id": "_qkxW34kGVCK"
      }
    },
    {
      "cell_type": "code",
      "source": [
        "import textblob\n",
        "import pandas as pd\n",
        "import numpy as np\n",
        "import requests\n",
        "from textblob import TextBlob\n",
        "\n",
        "#Some extra libraries we'll need for text analysis\n",
        "import nltk\n",
        "nltk.download('punkt')\n",
        "nltk.download('brown')\n",
        "nltk.download('punkt_tab')"
      ],
      "metadata": {
        "colab": {
          "base_uri": "https://localhost:8080/"
        },
        "id": "YhoM4y_BGYF1",
        "outputId": "a01fc8a2-fb2d-438e-e6e4-79fb9db3613f"
      },
      "execution_count": 3,
      "outputs": [
        {
          "output_type": "stream",
          "name": "stderr",
          "text": [
            "[nltk_data] Downloading package punkt to /root/nltk_data...\n",
            "[nltk_data]   Package punkt is already up-to-date!\n",
            "[nltk_data] Downloading package brown to /root/nltk_data...\n",
            "[nltk_data]   Package brown is already up-to-date!\n",
            "[nltk_data] Downloading package punkt_tab to /root/nltk_data...\n",
            "[nltk_data]   Package punkt_tab is already up-to-date!\n"
          ]
        },
        {
          "output_type": "execute_result",
          "data": {
            "text/plain": [
              "True"
            ]
          },
          "metadata": {},
          "execution_count": 3
        }
      ]
    },
    {
      "cell_type": "code",
      "source": [
        "keywords = dict()\n",
        "\n",
        "# You can replace with any book on Gutenberg,\n",
        "# We are using The Prince - https://www.gutenberg.org/ebooks/1232\n",
        "BOOK_URL = \"https://www.gutenberg.org/files/1232/1232-0.txt\"\n",
        "\n",
        "\n",
        "# We are using a Library called requests to download the book\n",
        "# (https://realpython.com/python-requests/)\n",
        "print(\"Downloading book...\")\n",
        "book = requests.get(BOOK_URL)\n",
        "\n",
        "#Turn text into text blob\n",
        "book_blob = TextBlob(book.text)\n",
        "\n",
        "\n",
        "print(\"Identiying Noun phrases and building frequency dictionary...\")\n",
        "\n",
        "#Go through all noun phrases\n",
        "for np in book_blob.noun_phrases:\n",
        "    if np in keywords:\n",
        "        keywords[np] += 1\n",
        "    else:\n",
        "        keywords[np] = 1\n",
        "\n",
        "\n",
        "#Sort dictionary and print top 20 entries\n",
        "print(\"Most common Nouns...\")\n",
        "\n",
        "for np in sorted(keywords, key=keywords.get, reverse=True)[0:20]:\n",
        "    print(np, keywords[np])"
      ],
      "metadata": {
        "colab": {
          "base_uri": "https://localhost:8080/"
        },
        "id": "WvJThwYXG8a0",
        "outputId": "dbf17312-7b9e-4835-e81b-2cd193f73da5"
      },
      "execution_count": 4,
      "outputs": [
        {
          "output_type": "stream",
          "name": "stdout",
          "text": [
            "Downloading book...\n",
            "Identiying Noun phrases and building frequency dictionary...\n",
            "Most common Nouns...\n",
            "castruccio 135\n",
            "florentines 61\n",
            "italy 56\n",
            "machiavelli 52\n",
            "florence 48\n",
            "lucca 47\n",
            "france 44\n",
            "pisa 36\n",
            "rome 32\n",
            "alexander 32\n",
            "venetians 24\n",
            "orsini 24\n",
            "pistoia 23\n",
            "milan 22\n",
            "uguccione 22\n",
            "prince_ 21\n",
            "oliverotto 21\n",
            "sinigalia 21\n",
            "medici 20\n",
            "god 19\n"
          ]
        }
      ]
    }
  ]
}